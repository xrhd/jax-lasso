{
 "cells": [
  {
   "cell_type": "markdown",
   "metadata": {},
   "source": [
    "# Setup"
   ]
  },
  {
   "cell_type": "code",
   "execution_count": 1,
   "metadata": {},
   "outputs": [],
   "source": [
    "import numpy as np\n",
    "import jax.numpy as jnp\n",
    "from jax import grad\n",
    "import jax\n",
    "import matplotlib.pyplot as plt\n",
    "import networkx as nx\n",
    "from sklearn import datasets\n",
    "import optax  "
   ]
  },
  {
   "cell_type": "markdown",
   "metadata": {},
   "source": [
    "# Load the Iris dataset "
   ]
  },
  {
   "cell_type": "code",
   "execution_count": 2,
   "metadata": {},
   "outputs": [
    {
     "data": {
      "text/plain": [
       "array([[5.1, 3.5, 1.4, 0.2],\n",
       "       [4.9, 3. , 1.4, 0.2],\n",
       "       [4.7, 3.2, 1.3, 0.2],\n",
       "       [4.6, 3.1, 1.5, 0.2],\n",
       "       [5. , 3.6, 1.4, 0.2],\n",
       "       [5.4, 3.9, 1.7, 0.4],\n",
       "       [4.6, 3.4, 1.4, 0.3],\n",
       "       [5. , 3.4, 1.5, 0.2],\n",
       "       [4.4, 2.9, 1.4, 0.2],\n",
       "       [4.9, 3.1, 1.5, 0.1]])"
      ]
     },
     "execution_count": 2,
     "metadata": {},
     "output_type": "execute_result"
    }
   ],
   "source": [
    "iris = datasets.load_iris()\n",
    "X = iris.data\n",
    "\n",
    "\n",
    "X[:10]"
   ]
  },
  {
   "cell_type": "code",
   "execution_count": 3,
   "metadata": {},
   "outputs": [
    {
     "data": {
      "text/plain": [
       "array([[0.        , 0.88243022, 0.12824622, 0.18205887],\n",
       "       [0.88243022, 0.        , 0.5715599 , 0.63387407],\n",
       "       [0.12824622, 0.5715599 , 0.        , 0.03713457],\n",
       "       [0.18205887, 0.63387407, 0.03713457, 0.        ]])"
      ]
     },
     "execution_count": 3,
     "metadata": {},
     "output_type": "execute_result"
    }
   ],
   "source": [
    "# Calculate a similarity matrix \n",
    "sim_matrix = 1 - np.abs(np.corrcoef(X.T))\n",
    "sim_matrix"
   ]
  },
  {
   "cell_type": "markdown",
   "metadata": {},
   "source": [
    "# Train"
   ]
  },
  {
   "cell_type": "code",
   "execution_count": 4,
   "metadata": {},
   "outputs": [],
   "source": [
    "# Function to construct the precision matrix\n",
    "def construct_precision_matrix(params, p):\n",
    "  lambda_ = 0.001\n",
    "\n",
    "  precision_matrix = jnp.zeros((p, p))\n",
    "  for i in range(p):\n",
    "    for j in range(i, p):\n",
    "      if i != j:\n",
    "        precision_matrix = precision_matrix.at[i, j].set(params[i * p + j])\n",
    "      \n",
    "  precision_matrix += precision_matrix.T\n",
    "  precision_matrix += jnp.diag(jnp.diag(precision_matrix)) # Using jnp.diag \n",
    "\n",
    "  # Soft-thresholding for L1 regularization\n",
    "  precision_matrix = jnp.sign(precision_matrix) * jnp.maximum(jnp.abs(precision_matrix) - lambda_, 0)\n",
    "  return precision_matrix\n",
    "\n",
    "# Define the squared loss function\n",
    "@jax.jit\n",
    "def squared_loss(params, X):\n",
    "  n, p = X.shape\n",
    "  predicted_precision = construct_precision_matrix(params, p)\n",
    "  empirical_cov = (1 / n) * jnp.dot(X.T, X)\n",
    "  return 0.5 * jnp.trace(jnp.dot(predicted_precision, empirical_cov)) + jnp.sum(jnp.abs(params))\n"
   ]
  },
  {
   "cell_type": "code",
   "execution_count": 5,
   "metadata": {},
   "outputs": [
    {
     "data": {
      "text/plain": [
       "Array([0.70291924, 0.57264924, 0.48725235, 0.39568925, 0.92254746,\n",
       "       0.24538016, 0.8512181 , 0.6274457 , 0.13381684, 0.38589656],      dtype=float32)"
      ]
     },
     "metadata": {},
     "output_type": "display_data"
    },
    {
     "name": "stdout",
     "output_type": "stream",
     "text": [
      "Loss at step 0 is 5.459306240081787\n",
      "Loss at step 100 is 0.05052885413169861\n",
      "Loss at step 200 is 0.011818405240774155\n",
      "Loss at step 300 is 0.009851031936705112\n",
      "Loss at step 400 is 0.011032850481569767\n",
      "Loss at step 500 is 0.014219274744391441\n",
      "Loss at step 600 is 0.01734934002161026\n",
      "Loss at step 700 is 0.013720372691750526\n",
      "Loss at step 800 is 0.01638551615178585\n",
      "Loss at step 900 is 0.006963142193853855\n"
     ]
    }
   ],
   "source": [
    "p = X.shape[1]\n",
    "key = jax.random.PRNGKey(758493)  # Random seed is explicit in JAX\n",
    "params = jax.random.uniform(key, (p * (p + 1) // 2, ))\n",
    "display(params)\n",
    "\n",
    "# Optimization setup (using Optax)\n",
    "loss_grad = grad(squared_loss)  \n",
    "optimizer = optax.adam(0.01) \n",
    "opt_state = optimizer.init(params) \n",
    "\n",
    "# Training loop with Optax update\n",
    "for i in range(1000):\n",
    "  updates, opt_state = optimizer.update(loss_grad(params, sim_matrix), opt_state)\n",
    "  params = optax.apply_updates(params, updates)\n",
    "  if i % 100 == 0:\n",
    "    print(f\"Loss at step {i} is {squared_loss(params, sim_matrix)}\")"
   ]
  },
  {
   "cell_type": "code",
   "execution_count": null,
   "metadata": {},
   "outputs": [],
   "source": []
  },
  {
   "cell_type": "code",
   "execution_count": 6,
   "metadata": {},
   "outputs": [
    {
     "data": {
      "text/plain": [
       "Array([[ 0.        , -0.00170827, -0.00434623, -0.        ],\n",
       "       [-0.00170827,  0.        ,  0.        ,  0.00268845],\n",
       "       [-0.00434623,  0.        ,  0.        ,  0.000421  ],\n",
       "       [-0.        ,  0.00268845,  0.000421  ,  0.        ]],      dtype=float32)"
      ]
     },
     "metadata": {},
     "output_type": "display_data"
    }
   ],
   "source": [
    "# Estimated precision and covariance matrices\n",
    "estimated_precision_matrix = construct_precision_matrix(params, p)\n",
    "estimated_covariance_matrix = jnp.linalg.inv(estimated_precision_matrix)\n",
    "\n",
    "display(estimated_precision_matrix)"
   ]
  },
  {
   "cell_type": "markdown",
   "metadata": {},
   "source": [
    "# Visualization\n",
    "\n"
   ]
  },
  {
   "cell_type": "code",
   "execution_count": 7,
   "metadata": {},
   "outputs": [
    {
     "data": {
      "image/png": "[encoded data removed]",
      "text/plain": [
       "<Figure size 640x480 with 1 Axes>"
      ]
     },
     "metadata": {},
     "output_type": "display_data"
    }
   ],
   "source": [
    "\n",
    "G = nx.from_numpy_array(np.abs(estimated_covariance_matrix))\n",
    "G = nx.relabel_nodes(G, {i: names for i, names in enumerate(iris.feature_names)})\n",
    "nx.draw(G, node_color='lightblue', edge_color='gray', with_labels=True) \n",
    "plt.show()"
   ]
  },
  {
   "cell_type": "code",
   "execution_count": null,
   "metadata": {},
   "outputs": [],
   "source": []
  },
  {
   "cell_type": "code",
   "execution_count": null,
   "metadata": {},
   "outputs": [],
   "source": []
  }
 ],
 "metadata": {
  "kernelspec": {
   "display_name": "flax",
   "language": "python",
   "name": "python3"
  },
  "language_info": {
   "codemirror_mode": {
    "name": "ipython",
    "version": 3
   },
   "file_extension": ".py",
   "mimetype": "text/x-python",
   "name": "python",
   "nbconvert_exporter": "python",
   "pygments_lexer": "ipython3",
   "version": "3.12.0"
  }
 },
 "nbformat": 4,
 "nbformat_minor": 2
}
